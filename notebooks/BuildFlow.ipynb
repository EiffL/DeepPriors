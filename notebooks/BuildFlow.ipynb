{
 "cells": [
  {
   "cell_type": "code",
   "execution_count": 7,
   "metadata": {},
   "outputs": [
    {
     "name": "stdout",
     "output_type": "stream",
     "text": [
      "Populating the interactive namespace from numpy and matplotlib\n"
     ]
    }
   ],
   "source": [
    "%pylab inline\n",
    "import tensorflow as tf\n",
    "import tensorflow_probability as tfp\n",
    "import tensorflow_hub as hub\n",
    "tfd = tfp.distributions\n",
    "tfb = tfp.bijectors"
   ]
  },
  {
   "cell_type": "code",
   "execution_count": 2,
   "metadata": {},
   "outputs": [],
   "source": [
    "from sklearn import cluster, datasets, mixture"
   ]
  },
  {
   "cell_type": "code",
   "execution_count": 3,
   "metadata": {},
   "outputs": [],
   "source": [
    "noisy_moons = datasets.make_moons(n_samples=10000, noise=.05)[0].astype(np.float32)"
   ]
  },
  {
   "cell_type": "code",
   "execution_count": 4,
   "metadata": {},
   "outputs": [
    {
     "data": {
      "image/png": "[encoded data removed]",
      "text/plain": [
       "<Figure size 324x252 with 1 Axes>"
      ]
     },
     "metadata": {
      "needs_background": "light"
     },
     "output_type": "display_data"
    }
   ],
   "source": [
    "figure(figsize=(4.5,3.5))\n",
    "hist2d(noisy_moons[:,0], noisy_moons[:,1],64);"
   ]
  },
  {
   "cell_type": "code",
   "execution_count": 5,
   "metadata": {},
   "outputs": [],
   "source": [
    "import tensorflow as tf\n",
    "\n",
    "from tensorflow_probability.python.bijectors import bijector\n",
    "\n",
    "__all__ = [\n",
    "    \"RealNVP\",\n",
    "    \"real_nvp_default_template\"\n",
    "]\n",
    "\n",
    "\n",
    "class RealNVP(bijector.Bijector):\n",
    "  \"\"\"RealNVP \"affine coupling layer\" for vector-valued events.\n",
    "  Real NVP models a normalizing flow on a `D`-dimensional distribution via a\n",
    "  single `D-d`-dimensional conditional distribution [(Dinh et al., 2017)][1]:\n",
    "  `y[d:D] = x[d:D] * tf.exp(log_scale_fn(x[0:d])) + shift_fn(x[0:d])`\n",
    "  `y[0:d] = x[0:d]`\n",
    "  The last `D-d` units are scaled and shifted based on the first `d` units only,\n",
    "  while the first `d` units are 'masked' and left unchanged. Real NVP's\n",
    "  `shift_and_log_scale_fn` computes vector-valued quantities. For\n",
    "  scale-and-shift transforms that do not depend on any masked units, i.e.\n",
    "  `d=0`, use the `tfb.Affine` bijector with learned parameters instead.\n",
    "  Masking is currently only supported for base distributions with\n",
    "  `event_ndims=1`. For more sophisticated masking schemes like checkerboard or\n",
    "  channel-wise masking [(Papamakarios et al., 2016)[4], use the `tfb.Permute`\n",
    "  bijector to re-order desired masked units into the first `d` units. For base\n",
    "  distributions with `event_ndims > 1`, use the `tfb.Reshape` bijector to\n",
    "  flatten the event shape.\n",
    "  Recall that the MAF bijector [(Papamakarios et al., 2016)][4] implements a\n",
    "  normalizing flow via an autoregressive transformation. MAF and IAF have\n",
    "  opposite computational tradeoffs - MAF can train all units in parallel but\n",
    "  must sample units sequentially, while IAF must train units sequentially but\n",
    "  can sample in parallel. In contrast, Real NVP can compute both forward and\n",
    "  inverse computations in parallel. However, the lack of an autoregressive\n",
    "  transformations makes it less expressive on a per-bijector basis.\n",
    "  A \"valid\" `shift_and_log_scale_fn` must compute each `shift` (aka `loc` or\n",
    "  \"mu\" in [Papamakarios et al. (2016)][4]) and `log(scale)` (aka \"alpha\" in\n",
    "  [Papamakarios et al. (2016)][4]) such that each are broadcastable with the\n",
    "  arguments to `forward` and `inverse`, i.e., such that the calculations in\n",
    "  `forward`, `inverse` [below] are possible. For convenience,\n",
    "  `real_nvp_default_nvp` is offered as a possible `shift_and_log_scale_fn`\n",
    "  function.\n",
    "  NICE [(Dinh et al., 2014)][2] is a special case of the Real NVP bijector\n",
    "  which discards the scale transformation, resulting in a constant-time\n",
    "  inverse-log-determinant-Jacobian. To use a NICE bijector instead of Real\n",
    "  NVP, `shift_and_log_scale_fn` should return `(shift, None)`, and\n",
    "  `is_constant_jacobian` should be set to `True` in the `RealNVP` constructor.\n",
    "  Calling `real_nvp_default_template` with `shift_only=True` returns one such\n",
    "  NICE-compatible `shift_and_log_scale_fn`.\n",
    "  Caching: the scalar input depth `D` of the base distribution is not known at\n",
    "  construction time. The first call to any of `forward(x)`, `inverse(x)`,\n",
    "  `inverse_log_det_jacobian(x)`, or `forward_log_det_jacobian(x)` memoizes\n",
    "  `D`, which is re-used in subsequent calls. This shape must be known prior to\n",
    "  graph execution (which is the case if using tf.layers).\n",
    "  #### Example Use\n",
    "  ```python\n",
    "  tfd = tfp.distributions\n",
    "  tfb = tfp.bijectors\n",
    "  # A common choice for a normalizing flow is to use a Gaussian for the base\n",
    "  # distribution. (However, any continuous distribution would work.) E.g.,\n",
    "  nvp = tfd.TransformedDistribution(\n",
    "      distribution=tfd.MultivariateNormalDiag(loc=[0., 0., 0.]),\n",
    "      bijector=tfb.RealNVP(\n",
    "          num_masked=2,\n",
    "          shift_and_log_scale_fn=tfb.real_nvp_default_template(\n",
    "              hidden_layers=[512, 512])))\n",
    "  x = nvp.sample()\n",
    "  nvp.log_prob(x)\n",
    "  nvp.log_prob(0.)\n",
    "  ```\n",
    "  For more examples, see [Jang (2018)][3].\n",
    "  #### References\n",
    "  [1]: Laurent Dinh, Jascha Sohl-Dickstein, and Samy Bengio. Density Estimation\n",
    "       using Real NVP. In _International Conference on Learning\n",
    "       Representations_, 2017. https://arxiv.org/abs/1605.08803\n",
    "  [2]: Laurent Dinh, David Krueger, and Yoshua Bengio. NICE: Non-linear\n",
    "       Independent Components Estimation. _arXiv preprint arXiv:1410.8516_,\n",
    "       2014. https://arxiv.org/abs/1410.8516\n",
    "  [3]: Eric Jang. Normalizing Flows Tutorial, Part 2: Modern Normalizing Flows.\n",
    "       _Technical Report_, 2018. http://blog.evjang.com/2018/01/nf2.html\n",
    "  [4]: George Papamakarios, Theo Pavlakou, and Iain Murray. Masked\n",
    "       Autoregressive Flow for Density Estimation. In _Neural Information\n",
    "       Processing Systems_, 2017. https://arxiv.org/abs/1705.07057\n",
    "  \"\"\"\n",
    "\n",
    "  def __init__(self,\n",
    "               num_masked,\n",
    "               shift_and_log_scale_fn,\n",
    "               is_constant_jacobian=False,\n",
    "               validate_args=False,\n",
    "               name=None):\n",
    "    \"\"\"Creates the Real NVP or NICE bijector.\n",
    "    Args:\n",
    "      num_masked: Python `int` indicating that the first `d` units of the event\n",
    "        should be masked. Must be in the closed interval `[1, D-1]`, where `D`\n",
    "        is the event size of the base distribution.\n",
    "      shift_and_log_scale_fn: Python `callable` which computes `shift` and\n",
    "        `log_scale` from both the forward domain (`x`) and the inverse domain\n",
    "        (`y`). Calculation must respect the \"autoregressive property\" (see class\n",
    "        docstring). Suggested default\n",
    "        `masked_autoregressive_default_template(hidden_layers=...)`.\n",
    "        Typically the function contains `tf.Variables` and is wrapped using\n",
    "        `tf.make_template`. Returning `None` for either (both) `shift`,\n",
    "        `log_scale` is equivalent to (but more efficient than) returning zero.\n",
    "      is_constant_jacobian: Python `bool`. Default: `False`. When `True` the\n",
    "        implementation assumes `log_scale` does not depend on the forward domain\n",
    "        (`x`) or inverse domain (`y`) values. (No validation is made;\n",
    "        `is_constant_jacobian=False` is always safe but possibly computationally\n",
    "        inefficient.)\n",
    "      validate_args: Python `bool` indicating whether arguments should be\n",
    "        checked for correctness.\n",
    "      name: Python `str`, name given to ops managed by this object.\n",
    "    Raises:\n",
    "      ValueError: If num_masked < 1.\n",
    "    \"\"\"\n",
    "    name = name or \"real_nvp\"\n",
    "    if num_masked <= 0:\n",
    "      raise ValueError(\"num_masked must be a positive integer.\")\n",
    "    self._num_masked = num_masked\n",
    "    # At construction time, we don't know input_depth.\n",
    "    self._input_depth = None\n",
    "    self._shift_and_log_scale_fn = shift_and_log_scale_fn\n",
    "    super(RealNVP, self).__init__(\n",
    "        forward_min_event_ndims=1,\n",
    "        is_constant_jacobian=is_constant_jacobian,\n",
    "        validate_args=validate_args,\n",
    "        name=name)\n",
    "\n",
    "  def _cache_input_depth(self, x):\n",
    "    if self._input_depth is None:\n",
    "      self._input_depth = 2\n",
    "      if self._input_depth is None:\n",
    "        raise NotImplementedError(\n",
    "            \"Rightmost dimension must be known prior to graph execution.\")\n",
    "      if self._num_masked >= self._input_depth:\n",
    "        raise ValueError(\n",
    "            \"Number of masked units must be smaller than the event size.\")\n",
    "\n",
    "  def _forward(self, x, **condition_kwargs):\n",
    "    self._cache_input_depth(x)\n",
    "    # Performs scale and shift.\n",
    "    x0, x1 = tf.split(x, num_or_size_splits=2, axis=-1)\n",
    "    shift, log_scale = self._shift_and_log_scale_fn(\n",
    "        x0, self._input_depth - self._num_masked, **condition_kwargs)\n",
    "    y1 = x1\n",
    "    if log_scale is not None:\n",
    "      y1 *= tf.exp(log_scale)\n",
    "    if shift is not None:\n",
    "      y1 += shift\n",
    "    y = tf.concat([x0, y1], axis=-1)\n",
    "    return y\n",
    "\n",
    "  def _inverse(self, y, **condition_kwargs):\n",
    "    self._cache_input_depth(y)\n",
    "    # Performs un-shift and un-scale.\n",
    "    y0, y1 =tf.split(y, num_or_size_splits=2, axis=-1) \n",
    "    shift, log_scale = self._shift_and_log_scale_fn(\n",
    "        y0, self._input_depth - self._num_masked, **condition_kwargs)\n",
    "    x1 = y1\n",
    "    if shift is not None:\n",
    "      x1 -= shift\n",
    "    if log_scale is not None:\n",
    "      x1 *= tf.exp(-log_scale)\n",
    "    x = tf.concat([y0, x1], axis=-1)\n",
    "    return x\n",
    "\n",
    "  def _inverse_log_det_jacobian(self, y, **condition_kwargs):\n",
    "    self._cache_input_depth(y)\n",
    "    y0, y1 =tf.split(y, num_or_size_splits=2, axis=-1) \n",
    "    _, log_scale = self._shift_and_log_scale_fn(\n",
    "        y0, self._input_depth - self._num_masked, **condition_kwargs)\n",
    "    if log_scale is None:\n",
    "      return tf.constant(0., dtype=y.dtype, name=\"ildj\")\n",
    "    return -tf.reduce_sum(input_tensor=log_scale, axis=-1)\n",
    "\n",
    "  def _forward_log_det_jacobian(self, x, **condition_kwargs):\n",
    "    self._cache_input_depth(x)\n",
    "    x0, x1 = tf.split(x, num_or_size_splits=2, axis=-1)\n",
    "    _, log_scale = self._shift_and_log_scale_fn(\n",
    "        x0, self._input_depth - self._num_masked, **condition_kwargs)\n",
    "    if log_scale is None:\n",
    "      return tf.constant(0., dtype=x.dtype, name=\"fldj\")\n",
    "    return tf.reduce_sum(input_tensor=log_scale, axis=-1)\n",
    "\n",
    "\n",
    "def real_nvp_default_template(hidden_layers,\n",
    "                              shift_only=False,\n",
    "                              activation=tf.nn.relu,\n",
    "                              name=None,\n",
    "                              *args,  # pylint: disable=keyword-arg-before-vararg\n",
    "                              **kwargs):\n",
    "  \"\"\"Build a scale-and-shift function using a multi-layer neural network.\n",
    "  This will be wrapped in a make_template to ensure the variables are only\n",
    "  created once. It takes the `d`-dimensional input x[0:d] and returns the `D-d`\n",
    "  dimensional outputs `loc` (\"mu\") and `log_scale` (\"alpha\").\n",
    "  The default template does not support conditioning and will raise an\n",
    "  exception if `condition_kwargs` are passed to it. To use conditioning in\n",
    "  real nvp bijector, implement a conditioned shift/scale template that\n",
    "  handles the `condition_kwargs`.\n",
    "  Arguments:\n",
    "    hidden_layers: Python `list`-like of non-negative integer, scalars\n",
    "      indicating the number of units in each hidden layer. Default: `[512, 512].\n",
    "    shift_only: Python `bool` indicating if only the `shift` term shall be\n",
    "      computed (i.e. NICE bijector). Default: `False`.\n",
    "    activation: Activation function (callable). Explicitly setting to `None`\n",
    "      implies a linear activation.\n",
    "    name: A name for ops managed by this function. Default:\n",
    "      \"real_nvp_default_template\".\n",
    "    *args: `tf.layers.dense` arguments.\n",
    "    **kwargs: `tf.layers.dense` keyword arguments.\n",
    "  Returns:\n",
    "    shift: `Float`-like `Tensor` of shift terms (\"mu\" in\n",
    "      [Papamakarios et al.  (2016)][1]).\n",
    "    log_scale: `Float`-like `Tensor` of log(scale) terms (\"alpha\" in\n",
    "      [Papamakarios et al. (2016)][1]).\n",
    "  Raises:\n",
    "    NotImplementedError: if rightmost dimension of `inputs` is unknown prior to\n",
    "      graph execution, or if `condition_kwargs` is not empty.\n",
    "  #### References\n",
    "  [1]: George Papamakarios, Theo Pavlakou, and Iain Murray. Masked\n",
    "       Autoregressive Flow for Density Estimation. In _Neural Information\n",
    "       Processing Systems_, 2017. https://arxiv.org/abs/1705.07057\n",
    "  \"\"\"\n",
    "\n",
    "  with tf.name_scope(name or \"real_nvp_default_template\"):\n",
    "\n",
    "    def _fn(x, output_units, **condition_kwargs):\n",
    "      \"\"\"Fully connected MLP parameterized via `real_nvp_template`.\"\"\"\n",
    "      if condition_kwargs:\n",
    "        raise NotImplementedError(\n",
    "            \"Conditioning not implemented in the default template.\")\n",
    "\n",
    "      reshape_output = lambda x: x\n",
    "      for units in hidden_layers:\n",
    "        x = tf.compat.v1.layers.dense(\n",
    "            inputs=x,\n",
    "            units=units,\n",
    "            activation=activation,\n",
    "            *args,  # pylint: disable=keyword-arg-before-vararg\n",
    "            **kwargs)\n",
    "      x = tf.compat.v1.layers.dense(\n",
    "          inputs=x,\n",
    "          units=(1 if shift_only else 2) * output_units,\n",
    "          activation=None,\n",
    "          *args,  # pylint: disable=keyword-arg-before-vararg\n",
    "          **kwargs)\n",
    "      if shift_only:\n",
    "        return reshape_output(x), None\n",
    "      shift, log_scale = tf.split(x, 2, axis=-1)\n",
    "      return reshape_output(shift), reshape_output(log_scale)\n",
    "\n",
    "    return tf.compat.v1.make_template(\"real_nvp_default_template\", _fn)"
   ]
  },
  {
   "cell_type": "code",
   "execution_count": 74,
   "metadata": {},
   "outputs": [],
   "source": [
    "tf.reset_default_graph()\n",
    "\n",
    "batch_size = 1024\n",
    "\n",
    "x = tf.placeholder(tf.float32, shape=(batch_size,2))\n",
    "lr = tf.placeholder_with_default(0.001, shape=())\n",
    "\n",
    "def flow_module_spec():\n",
    "    x = tf.placeholder(tf.float32, shape=[None, 2])\n",
    "    chain = [ RealNVP(1,\n",
    "                                shift_and_log_scale_fn=real_nvp_default_template(hidden_layers=[128,128],\n",
    "                                                                                     activation=tf.nn.leaky_relu)),\n",
    "              tfb.Permute([1,0]),\n",
    "              RealNVP(1,\n",
    "                                shift_and_log_scale_fn=real_nvp_default_template(hidden_layers=[128,128],\n",
    "                                                                                     activation=tf.nn.leaky_relu)),\n",
    "\n",
    "              tfb.Permute([1,0]),\n",
    "              RealNVP(1,\n",
    "                                shift_and_log_scale_fn=real_nvp_default_template(hidden_layers=[128,128],\n",
    "                                                                                        activation=tf.nn.leaky_relu)),\n",
    "              tfb.Permute([1,0]),\n",
    "              RealNVP(1,\n",
    "                                shift_and_log_scale_fn=real_nvp_default_template(hidden_layers=[128,128],\n",
    "                                                                                        activation=tf.nn.leaky_relu)),\n",
    "            ]\n",
    "    bij = tfb.Chain(chain)\n",
    "\n",
    "    prior  = tfd.MultivariateNormalDiag(loc=tf.zeros(2), scale_identity_multiplier=1.0)\n",
    "    distribution = tfd.TransformedDistribution(prior, bijector=bij)\n",
    "    \n",
    "    log_prob = distribution.log_prob(x)\n",
    "    hub.add_signature(inputs=x,\n",
    "                      outputs=log_prob)\n",
    "\n",
    "flow_spec = hub.create_module_spec(flow_module_spec)\n",
    "flow = hub.Module(flow_spec, name='flow_module', trainable=True)"
   ]
  },
  {
   "cell_type": "code",
   "execution_count": 75,
   "metadata": {},
   "outputs": [
    {
     "name": "stdout",
     "output_type": "stream",
     "text": [
      "INFO:tensorflow:Saver not created because there are no variables in the graph to restore\n"
     ]
    }
   ],
   "source": [
    "loss = - tf.reduce_mean(flow(x))"
   ]
  },
  {
   "cell_type": "code",
   "execution_count": 76,
   "metadata": {},
   "outputs": [],
   "source": [
    "optimizer = tf.train.AdamOptimizer(learning_rate=lr)\n",
    "opt_op = optimizer.minimize(loss)"
   ]
  },
  {
   "cell_type": "code",
   "execution_count": 77,
   "metadata": {},
   "outputs": [],
   "source": [
    "sess = tf.Session()\n",
    "sess.run(tf.global_variables_initializer())"
   ]
  },
  {
   "cell_type": "code",
   "execution_count": 78,
   "metadata": {},
   "outputs": [],
   "source": [
    "losses = []"
   ]
  },
  {
   "cell_type": "code",
   "execution_count": 79,
   "metadata": {},
   "outputs": [
    {
     "name": "stdout",
     "output_type": "stream",
     "text": [
      "0 2.4453485\n",
      "100 1.6535901\n",
      "200 1.2953004\n",
      "300 1.1509811\n",
      "400 1.0954278\n",
      "500 0.96329486\n",
      "600 1.0440545\n",
      "700 0.83950615\n",
      "800 0.940884\n",
      "900 0.64225376\n",
      "1000 0.5296452\n",
      "1100 0.51086026\n",
      "1200 0.47699916\n",
      "1300 0.43335018\n",
      "1400 0.47138005\n",
      "1500 0.4239432\n",
      "1600 0.40494943\n",
      "1700 0.4039541\n",
      "1800 0.37303352\n",
      "1900 0.3630897\n",
      "2000 0.34914026\n",
      "2100 0.35237804\n",
      "2200 0.3262498\n",
      "2300 0.3828894\n",
      "2400 0.37927696\n",
      "2500 0.34367394\n",
      "2600 0.36978543\n",
      "2700 0.36831433\n",
      "2800 0.32450718\n",
      "2900 0.37953505\n",
      "3000 0.34915888\n",
      "3100 0.37723783\n",
      "3200 0.3264848\n",
      "3300 0.37935752\n",
      "3400 0.39862025\n",
      "3500 0.33713886\n",
      "3600 0.3687825\n",
      "3700 0.31489778\n",
      "3800 0.36391583\n",
      "3900 0.3219086\n",
      "4000 0.3783657\n",
      "4100 0.35278112\n",
      "4200 0.32514125\n",
      "4300 0.39551994\n",
      "4400 0.3152021\n",
      "4500 0.35416675\n",
      "4600 0.35850254\n",
      "4700 0.34683535\n",
      "4800 0.37097844\n",
      "4900 0.34145513\n"
     ]
    }
   ],
   "source": [
    "for i in range(5000):\n",
    "    ims = datasets.make_moons(n_samples=batch_size, noise=.05)[0].astype(np.float32)\n",
    "    _, l = sess.run([opt_op, loss], feed_dict={x:ims, lr:0.001})\n",
    "    losses.append(l)\n",
    "    if i %100 ==0:\n",
    "        print(i, l)"
   ]
  },
  {
   "cell_type": "code",
   "execution_count": 80,
   "metadata": {},
   "outputs": [],
   "source": [
    "xc,yc = meshgrid(linspace(-1.5,2.5,128),linspace(-1.,1.5,128))"
   ]
  },
  {
   "cell_type": "code",
   "execution_count": 81,
   "metadata": {},
   "outputs": [
    {
     "name": "stdout",
     "output_type": "stream",
     "text": [
      "INFO:tensorflow:Saver not created because there are no variables in the graph to restore\n"
     ]
    }
   ],
   "source": [
    "tx = tf.placeholder(tf.float32, shape=(128**2,2))\n",
    "vals = sess.run(flow(tx), feed_dict={tx: stack([xc.flatten(), yc.flatten()],axis=1)})"
   ]
  },
  {
   "cell_type": "code",
   "execution_count": 82,
   "metadata": {},
   "outputs": [
    {
     "data": {
      "text/plain": [
       "<matplotlib.colorbar.Colorbar at 0x7fa9fcf61860>"
      ]
     },
     "execution_count": 82,
     "metadata": {},
     "output_type": "execute_result"
    },
    {
     "data": {
      "image/png": "[encoded data removed]",
      "text/plain": [
       "<Figure size 432x288 with 2 Axes>"
      ]
     },
     "metadata": {
      "needs_background": "light"
     },
     "output_type": "display_data"
    }
   ],
   "source": [
    "imshow(exp(vals.reshape((128,128)))); colorbar()"
   ]
  },
  {
   "cell_type": "code",
   "execution_count": 83,
   "metadata": {},
   "outputs": [
    {
     "name": "stdout",
     "output_type": "stream",
     "text": [
      "INFO:tensorflow:Exported TF-Hub module to: ../models/two_moons_realnvp_d\n"
     ]
    }
   ],
   "source": [
    "flow.export('../models/two_moons_realnvp_d', sess)"
   ]
  },
  {
   "cell_type": "code",
   "execution_count": 80,
   "metadata": {},
   "outputs": [
    {
     "name": "stdout",
     "output_type": "stream",
     "text": [
      "INFO:tensorflow:Saver not created because there are no variables in the graph to restore\n"
     ]
    }
   ],
   "source": [
    "fake = sess.run(flow(x, as_dict=True)['samples'], feed_dict={x:ims, lr:0.001})"
   ]
  },
  {
   "cell_type": "code",
   "execution_count": 81,
   "metadata": {},
   "outputs": [
    {
     "data": {
      "text/plain": [
       "(1024, 2)"
      ]
     },
     "execution_count": 81,
     "metadata": {},
     "output_type": "execute_result"
    }
   ],
   "source": [
    "fake.shape"
   ]
  },
  {
   "cell_type": "code",
   "execution_count": 82,
   "metadata": {},
   "outputs": [
    {
     "data": {
      "image/png": "[encoded data removed]",
      "text/plain": [
       "<Figure size 432x288 with 1 Axes>"
      ]
     },
     "metadata": {
      "needs_background": "light"
     },
     "output_type": "display_data"
    }
   ],
   "source": [
    "scatter(noisy_moons[:1024,0], noisy_moons[:1024,1])\n",
    "scatter(fake[:,0], fake[:,1],alpha=0.5)\n",
    "gca().set_aspect('equal')"
   ]
  },
  {
   "cell_type": "code",
   "execution_count": 83,
   "metadata": {},
   "outputs": [
    {
     "data": {
      "image/png": "[encoded data removed]",
      "text/plain": [
       "<Figure size 324x252 with 1 Axes>"
      ]
     },
     "metadata": {
      "needs_background": "light"
     },
     "output_type": "display_data"
    }
   ],
   "source": [
    "figure(figsize=(4.5,3.5))\n",
    "hist2d(fake[:,0], fake[:,1],64,vmax=30,range=[[-1.2,2.5],[-0.75,1.25]],cmap='Blues_r',vmin=0);"
   ]
  },
  {
   "cell_type": "code",
   "execution_count": 12,
   "metadata": {},
   "outputs": [
    {
     "name": "stdout",
     "output_type": "stream",
     "text": [
      "INFO:tensorflow:Exported TF-Hub module to: ../models/two_moons_realnvp_b\n"
     ]
    }
   ],
   "source": [
    "flow.export('../models/two_moons_realnvp_b', sess)"
   ]
  },
  {
   "cell_type": "code",
   "execution_count": null,
   "metadata": {},
   "outputs": [],
   "source": [
    "import tensorflow_hub as hub\n",
    "flow = hub.Module('../models/two_moons_realnvp_c/')\n",
    "x = tf.placeholder(shape=[1024, 2], dtype=tf.float32)\n",
    "g = tf.gradients(flow(x),x)\n",
    "sess = tf.Session()\n",
    "sess.run(tf.global_variables_initializer())\n",
    "yo,po = sess.run([tf.norm(g,axis=-1),x], feed_dict={x: randn(1024,2)})\n",
    "scatter(po[:,0], po[:,1], c=clip(-yo[0],-100,100));colorbar()\n",
    "xlim(-1,2)\n",
    "ylim(-1,2)"
   ]
  }
 ],
 "metadata": {
  "kernelspec": {
   "display_name": "Python 3",
   "language": "python",
   "name": "python3"
  },
  "language_info": {
   "codemirror_mode": {
    "name": "ipython",
    "version": 3
   },
   "file_extension": ".py",
   "mimetype": "text/x-python",
   "name": "python",
   "nbconvert_exporter": "python",
   "pygments_lexer": "ipython3",
   "version": "3.7.3"
  }
 },
 "nbformat": 4,
 "nbformat_minor": 2
}
